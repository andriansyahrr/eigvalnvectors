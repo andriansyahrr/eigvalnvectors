{
 "cells": [
  {
   "cell_type": "code",
   "execution_count": 2,
   "metadata": {},
   "outputs": [],
   "source": [
    "import numpy as np\n",
    "from scipy import linalg"
   ]
  },
  {
   "cell_type": "markdown",
   "metadata": {},
   "source": [
    "#BAGIAN I\n",
    "##Percobaan 1A\n",
    "###2."
   ]
  },
  {
   "cell_type": "code",
   "execution_count": 3,
   "metadata": {},
   "outputs": [
    {
     "name": "stdout",
     "output_type": "stream",
     "text": [
      "[5 4]\n",
      "[4 5]\n",
      "[9 9]\n",
      "[11 10]\n",
      "[-2  2]\n",
      "[ 1 -1]\n",
      "[-3 -3]\n"
     ]
    }
   ],
   "source": [
    "A = np.array([[1, 2], [2, 1]])\n",
    "l1 = np.array([1, 2])\n",
    "l2 = np.array([2, 1])\n",
    "l3 = np.array([3, 3])\n",
    "l4 = np.array([3, 4])\n",
    "l5 = np.array([2, -2])\n",
    "l6 = np.array([-1, 1])\n",
    "l7 = np.array([-1, -1])\n",
    "\n",
    "Al1 = A@l1\n",
    "Al2 = A@l2\n",
    "Al3 = A@l3\n",
    "Al4 = A@l4\n",
    "Al5 = A@l5\n",
    "Al6 = A@l6\n",
    "Al7 = A@l7\n",
    "\n",
    "print(Al1)\n",
    "print(Al2)\n",
    "print(Al3)\n",
    "print(Al4)\n",
    "print(Al5)\n",
    "print(Al6)\n",
    "print(Al7)"
   ]
  },
  {
   "cell_type": "markdown",
   "metadata": {},
   "source": [
    "###2. "
   ]
  },
  {
   "cell_type": "code",
   "execution_count": 4,
   "metadata": {},
   "outputs": [
    {
     "name": "stdout",
     "output_type": "stream",
     "text": [
      "[5 4]\n",
      "[4 5]\n",
      "[9 9]\n",
      "[11 10]\n",
      "[-2  2]\n",
      "[ 1 -1]\n",
      "[-3 -3]\n"
     ]
    }
   ],
   "source": [
    "Al1 = np.matmul(A, l1)\n",
    "Al2 = np.matmul(A, l2)\n",
    "Al3 = np.matmul(A, l3)\n",
    "Al4 = np.matmul(A, l4)\n",
    "Al5 = np.matmul(A, l5)\n",
    "Al6 = np.matmul(A, l6)\n",
    "Al7 = np.matmul(A, l7)\n",
    "\n",
    "print(Al1)\n",
    "print(Al2)\n",
    "print(Al3)\n",
    "print(Al4)\n",
    "print(Al5)\n",
    "print(Al6)\n",
    "print(Al7)"
   ]
  },
  {
   "cell_type": "markdown",
   "metadata": {},
   "source": [
    "##3."
   ]
  },
  {
   "cell_type": "code",
   "execution_count": 5,
   "metadata": {},
   "outputs": [
    {
     "name": "stdout",
     "output_type": "stream",
     "text": [
      "(array([ 3., -1.]), array([[ 0.70710678, -0.70710678],\n",
      "       [ 0.70710678,  0.70710678]]))\n",
      "(array([ 3.+0.j, -1.+0.j]), array([[ 0.70710678, -0.70710678],\n",
      "       [ 0.70710678,  0.70710678]]))\n"
     ]
    }
   ],
   "source": [
    "print(np.linalg.eig(A))\n",
    "print(linalg.eig(A, left = False, right =True))"
   ]
  },
  {
   "cell_type": "markdown",
   "metadata": {},
   "source": [
    "##Percobaan 1B\n",
    "###1."
   ]
  },
  {
   "cell_type": "code",
   "execution_count": 6,
   "metadata": {},
   "outputs": [
    {
     "name": "stdout",
     "output_type": "stream",
     "text": [
      "[2 3]\n",
      "[1 2]\n",
      "[1 1]\n",
      "[3 4]\n",
      "[ 1 -1]\n",
      "[ 2 -2]\n",
      "[2 2]\n"
     ]
    }
   ],
   "source": [
    "l1 = np.array([2, 3])\n",
    "l2 = np.array([1, 2])\n",
    "l3 = np.array([1, 1])\n",
    "l4 = np.array([3, 4])\n",
    "l5 = np.array([1, -1])\n",
    "l6 = np.array([2, -2])\n",
    "l7 = np.array([2, 2])\n",
    "\n",
    "l1T = l1.T\n",
    "print(l1T)\n",
    "l2T = l2.T\n",
    "print(l2T)\n",
    "l3T = l3.T\n",
    "print(l3T)\n",
    "l4T = l4.T\n",
    "print(l4T)\n",
    "l5T = l5.T\n",
    "print(l5T)\n",
    "l6T = l6.T\n",
    "print(l6T)\n",
    "l7T = l7.T\n",
    "print(l7T)\n"
   ]
  },
  {
   "cell_type": "code",
   "execution_count": 7,
   "metadata": {},
   "outputs": [
    {
     "name": "stdout",
     "output_type": "stream",
     "text": [
      "[8 7]\n",
      "[5 4]\n",
      "[3 3]\n",
      "[11 10]\n",
      "[-1  1]\n",
      "[8 7]\n",
      "[8 7]\n"
     ]
    }
   ],
   "source": [
    "l1TA = l1T@A\n",
    "print (l1TA)\n",
    "l2TA = l2T@A\n",
    "print (l2TA)\n",
    "l3TA = l3T@A\n",
    "print (l3TA)\n",
    "l4TA = l4T@A\n",
    "print (l4TA)\n",
    "l5TA = l5T@A\n",
    "print (l5TA)\n",
    "l6TA = l6T@A\n",
    "print (l1TA)\n",
    "l7TA = l7T@A\n",
    "print (l1TA)"
   ]
  },
  {
   "cell_type": "markdown",
   "metadata": {},
   "source": [
    "###3."
   ]
  },
  {
   "cell_type": "code",
   "execution_count": 8,
   "metadata": {},
   "outputs": [
    {
     "name": "stdout",
     "output_type": "stream",
     "text": [
      "(array([ 3.+0.j, -1.+0.j]), array([[ 0.70710678, -0.70710678],\n",
      "       [ 0.70710678,  0.70710678]]))\n"
     ]
    }
   ],
   "source": [
    "print(linalg.eig(A, left = True, right = False))"
   ]
  },
  {
   "cell_type": "markdown",
   "metadata": {},
   "source": [
    "##Pecobaan 1C\n",
    "###2."
   ]
  },
  {
   "cell_type": "code",
   "execution_count": 9,
   "metadata": {},
   "outputs": [
    {
     "name": "stdout",
     "output_type": "stream",
     "text": [
      "[[1 1]\n",
      " [1 0]]\n",
      "(array([ 1.61803399, -0.61803399]), array([[ 0.85065081, -0.52573111],\n",
      "       [ 0.52573111,  0.85065081]]))\n",
      "(array([ 1.61803399+0.j, -0.61803399+0.j]), array([[ 0.85065081, -0.52573111],\n",
      "       [ 0.52573111,  0.85065081]]))\n",
      "(array([ 1.61803399+0.j, -0.61803399+0.j]), array([[ 0.85065081, -0.52573111],\n",
      "       [ 0.52573111,  0.85065081]]))\n"
     ]
    }
   ],
   "source": [
    "B = np.array([[1, 1], [1, 0]])\n",
    "print(B)\n",
    "print(np.linalg.eig(B))\n",
    "print(linalg.eig(B, left = False, right =True))\n",
    "print(linalg.eig(B, left = True, right = False))"
   ]
  },
  {
   "cell_type": "markdown",
   "metadata": {},
   "source": [
    "###3."
   ]
  },
  {
   "cell_type": "code",
   "execution_count": 10,
   "metadata": {},
   "outputs": [
    {
     "name": "stdout",
     "output_type": "stream",
     "text": [
      "[2 0]\n",
      "[2 2]\n",
      "[4 2]\n",
      "[6 4]\n",
      "[10  6]\n",
      "[16 10]\n",
      "[26 16]\n",
      "[42 26]\n",
      "[68 42]\n",
      "[110  68]\n",
      "[178 110]\n"
     ]
    }
   ],
   "source": [
    "B = np.array([[1, 1], [1, 0]])\n",
    "v1 = np.array([2, 0])\n",
    "v11 = B@v1\n",
    "v12 = B@v11\n",
    "v13 = B@v12\n",
    "v14 = B@v13\n",
    "v15 = B@v14\n",
    "v16 = B@v15\n",
    "v17 = B@v16\n",
    "v18 = B@v17\n",
    "v19 = B@v18\n",
    "v110 = B@v19\n",
    "\n",
    "print(v1)\n",
    "print(v11)\n",
    "print(v12)\n",
    "print(v13)\n",
    "print(v14)\n",
    "print(v15)\n",
    "print(v16)\n",
    "print(v17)\n",
    "print(v18)\n",
    "print(v19)\n",
    "print(v110)"
   ]
  },
  {
   "cell_type": "code",
   "execution_count": 11,
   "metadata": {},
   "outputs": [
    {
     "name": "stdout",
     "output_type": "stream",
     "text": [
      "[ 0 -2]\n",
      "[-2  0]\n",
      "[-2 -2]\n",
      "[-4 -2]\n",
      "[-6 -4]\n",
      "[-10  -6]\n",
      "[-16 -10]\n",
      "[-26 -16]\n",
      "[-42 -26]\n",
      "[-68 -42]\n",
      "[-110  -68]\n"
     ]
    }
   ],
   "source": [
    "B = np.array([[1, 1], [1, 0]])\n",
    "v1 = np.array([0, -2])\n",
    "v11 = B@v1\n",
    "v12 = B@v11\n",
    "v13 = B@v12\n",
    "v14 = B@v13\n",
    "v15 = B@v14\n",
    "v16 = B@v15\n",
    "v17 = B@v16\n",
    "v18 = B@v17\n",
    "v19 = B@v18\n",
    "v110 = B@v19\n",
    "\n",
    "print(v1)\n",
    "print(v11)\n",
    "print(v12)\n",
    "print(v13)\n",
    "print(v14)\n",
    "print(v15)\n",
    "print(v16)\n",
    "print(v17)\n",
    "print(v18)\n",
    "print(v19)\n",
    "print(v110)"
   ]
  },
  {
   "cell_type": "code",
   "execution_count": 12,
   "metadata": {},
   "outputs": [
    {
     "name": "stdout",
     "output_type": "stream",
     "text": [
      "[-1  1]\n",
      "[-2  0]\n",
      "[-2 -2]\n",
      "[-4 -2]\n",
      "[-6 -4]\n",
      "[-10  -6]\n",
      "[-16 -10]\n",
      "[-26 -16]\n",
      "[-42 -26]\n",
      "[-68 -42]\n",
      "[-110  -68]\n"
     ]
    }
   ],
   "source": [
    "B = np.array([[1, 1], [1, 0]])\n",
    "v1 = np.array([-1, 1])\n",
    "vv11 = B@v1\n",
    "v12 = B@v11\n",
    "v13 = B@v12\n",
    "v14 = B@v13\n",
    "v15 = B@v14\n",
    "v16 = B@v15\n",
    "v17 = B@v16\n",
    "v18 = B@v17\n",
    "v19 = B@v18\n",
    "v110 = B@v19\n",
    "\n",
    "print(v1)\n",
    "print(v11)\n",
    "print(v12)\n",
    "print(v13)\n",
    "print(v14)\n",
    "print(v15)\n",
    "print(v16)\n",
    "print(v17)\n",
    "print(v18)\n",
    "print(v19)\n",
    "print(v110)"
   ]
  },
  {
   "cell_type": "markdown",
   "metadata": {},
   "source": [
    "#BAGIAN II\n",
    "##Percobaan 2A\n",
    "###1."
   ]
  },
  {
   "cell_type": "code",
   "execution_count": 13,
   "metadata": {},
   "outputs": [
    {
     "name": "stdout",
     "output_type": "stream",
     "text": [
      "[[-0.5  0. ]\n",
      " [ 1.  -2. ]]\n",
      "---------------\n",
      "(array([-2. , -0.5]), array([[0.        , 0.83205029],\n",
      "       [1.        , 0.5547002 ]]))\n",
      "---------------\n",
      "(array([-2. +0.j, -0.5+0.j]), array([[0.        , 0.83205029],\n",
      "       [1.        , 0.5547002 ]]))\n",
      "---------------\n",
      "(array([-2. +0.j, -0.5+0.j]), array([[-0.5547002 ,  1.        ],\n",
      "       [ 0.83205029,  0.        ]]))\n",
      "---------------\n"
     ]
    }
   ],
   "source": [
    "c = np.array([[-0.5, 0], [1, -2]])\n",
    "print(c)\n",
    "print(\"---------------\")\n",
    "print(np.linalg.eig(c))\n",
    "print(\"---------------\")\n",
    "print(linalg.eig(c, left = False, right =True))\n",
    "print(\"---------------\")\n",
    "print(linalg.eig(c, left = True, right = False))\n",
    "print(\"---------------\")"
   ]
  },
  {
   "cell_type": "markdown",
   "metadata": {},
   "source": [
    "###2."
   ]
  },
  {
   "cell_type": "code",
   "execution_count": 14,
   "metadata": {},
   "outputs": [
    {
     "name": "stdout",
     "output_type": "stream",
     "text": [
      "[[0.         0.83205029]\n",
      " [1.         0.5547002 ]]\n",
      "---------------\n",
      "[[-0.66666667  1.        ]\n",
      " [ 1.20185043  0.        ]]\n",
      "---------------\n",
      "[[ 1.33333334 -2.        ]\n",
      " [-0.60092522  0.        ]]\n",
      "---------------\n",
      "[[-2.00000000e+00 -1.00000002e-08]\n",
      " [ 0.00000000e+00 -5.00000000e-01]]\n"
     ]
    }
   ],
   "source": [
    "P =  np.array([[0.        , 0.83205029],[1.        , 0.5547002 ]])\n",
    "P_inv = np.linalg.inv(P)\n",
    "X = np.dot(P_inv,c)\n",
    "D = np.dot(X,P)\n",
    "print (P)\n",
    "print(\"---------------\")\n",
    "print(P_inv)\n",
    "print(\"---------------\")\n",
    "print(X)\n",
    "print(\"---------------\")\n",
    "print(D)"
   ]
  },
  {
   "cell_type": "code",
   "execution_count": 15,
   "metadata": {},
   "outputs": [
    {
     "name": "stdout",
     "output_type": "stream",
     "text": [
      "[[ 1.          0.        ]\n",
      " [-0.66666667  1.        ]]\n",
      "[[-0.5         0.        ]\n",
      " [ 1.33333333 -2.        ]]\n",
      "[[-0.5  0. ]\n",
      " [ 0.  -2. ]]\n"
     ]
    }
   ],
   "source": [
    "T = np.array([[1, 0], [2/3, 1]])\n",
    "print(np.linalg.inv(T))\n",
    "a1 = np.linalg.inv(T)@c\n",
    "print(a1)\n",
    "a2 = a1@T\n",
    "print(a2)"
   ]
  },
  {
   "cell_type": "markdown",
   "metadata": {},
   "source": [
    "###4."
   ]
  },
  {
   "cell_type": "code",
   "execution_count": 16,
   "metadata": {},
   "outputs": [
    {
     "data": {
      "image/png": "[encoded data removed]",
      "text/plain": [
       "<Figure size 432x288 with 1 Axes>"
      ]
     },
     "metadata": {
      "needs_background": "light"
     },
     "output_type": "display_data"
    }
   ],
   "source": [
    "import matplotlib.pyplot as plt\n",
    "\n",
    "fig = plt.figure()\n",
    "ax = fig.add_subplot(1, 1, 1)\n",
    "\n",
    "#spine placement data centered\n",
    "ax.spines['left'].set_position(('data', 0.0))\n",
    "ax.spines['bottom'].set_position(('data', 0.0))\n",
    "ax.spines['right'].set_color('none')\n",
    "ax.spines['top'].set_color('none')\n",
    "\n",
    "x = np.linspace(0, 5, num =500)\n",
    "y1 = np.exp(-0.5*x)\n",
    "y2 = (2/3)*np.exp(-0.5*x) + (4/3)*np.exp(-2*x)\n",
    "plt.plot(x, y1, label = r'$x_1 (t) = e^{-0.5t}$')\n",
    "plt.plot(x, y2, label = r'$x_2 (t) = \\frac{2}{3} e^{-0.5t} + \\frac{4}{3} e^{-2t}$')\n",
    "plt.xlabel('t')\n",
    "plt.ylabel('x(t)')\n",
    "plt.legend(loc='best')\n",
    "plt.show()"
   ]
  },
  {
   "cell_type": "markdown",
   "metadata": {},
   "source": [
    "###5."
   ]
  },
  {
   "cell_type": "code",
   "execution_count": 17,
   "metadata": {},
   "outputs": [
    {
     "data": {
      "image/png": "[encoded data removed]",
      "text/plain": [
       "<Figure size 432x288 with 1 Axes>"
      ]
     },
     "metadata": {
      "needs_background": "light"
     },
     "output_type": "display_data"
    }
   ],
   "source": [
    "fig = plt.figure()\n",
    "ax = fig.add_subplot(1, 1, 1)\n",
    "\n",
    "#spine placement data centered\n",
    "ax.spines['left'].set_position(('data', 0.0))\n",
    "ax.spines['bottom'].set_position(('data', 0.0))\n",
    "ax.spines['right'].set_color('none')\n",
    "ax.spines['top'].set_color('none')\n",
    "\n",
    "x = np.linspace(0, 5, num =500)\n",
    "y2 = np.exp(-2*x)\n",
    "plt.plot(x, y2, 'tab:blue',label = r'$x_2 (t) = e^{2t}$')\n",
    "plt.hlines(y=0, xmin=0, xmax=5, color = 'tab:orange', label = r'$x_1 (t) = 0$'),\n",
    "plt.xlabel('t')\n",
    "plt.ylabel('x(t)')\n",
    "plt.legend(loc='best')\n",
    "plt.show()"
   ]
  },
  {
   "cell_type": "markdown",
   "metadata": {},
   "source": [
    "###6."
   ]
  },
  {
   "cell_type": "code",
   "execution_count": 18,
   "metadata": {},
   "outputs": [
    {
     "data": {
      "image/png": "[encoded data removed]",
      "text/plain": [
       "<Figure size 432x288 with 1 Axes>"
      ]
     },
     "metadata": {
      "needs_background": "light"
     },
     "output_type": "display_data"
    }
   ],
   "source": [
    "fig = plt.figure()\n",
    "ax = fig.add_subplot(1, 1, 1)\n",
    "\n",
    "# spine placement data centered\n",
    "ax.spines['left'].set_position(('data', 0.0))\n",
    "ax.spines['bottom'].set_position(('data', 0.0))\n",
    "ax.spines['right'].set_color('none')\n",
    "ax.spines['top'].set_color('none')\n",
    "\n",
    "x = np.linspace(0, 5, num =500)\n",
    "y1 = 0.5*np.exp(-0.5*x)\n",
    "y2 = (1/3)*np.exp(-0.5*x) + (2/3)*np.exp(-2*x)\n",
    "plt.plot(x, y1, label = r'$x_1 (t)= y(t) = 0.5 e^{-0.5t}$')\n",
    "plt.plot(x, y2, label = r'$x_2 (t) = \\frac{1}{3} e^{-0.5t} + \\frac{2}{3} e^{-2t}$')\n",
    "plt.xlabel('t')\n",
    "plt.ylabel('x(t)')\n",
    "plt.legend(loc='best')\n",
    "plt.show()"
   ]
  },
  {
   "cell_type": "markdown",
   "metadata": {},
   "source": [
    "##Percobaan 2B\n",
    "###1."
   ]
  },
  {
   "cell_type": "code",
   "execution_count": 19,
   "metadata": {},
   "outputs": [
    {
     "name": "stdout",
     "output_type": "stream",
     "text": [
      "[[ -1  10   1]\n",
      " [-10  -1   1]\n",
      " [  1   1  -2]]\n",
      "---------------\n",
      "(array([-0.98990315+9.90053027j, -0.98990315-9.90053027j,\n",
      "       -2.0201937 +0.j        ]), array([[ 0.70395763+0.j        ,  0.70395763-0.j        ,\n",
      "         0.08800635+0.j        ],\n",
      "       [-0.00702954+0.70320498j, -0.00702954-0.70320498j,\n",
      "        -0.10800311+0.j        ],\n",
      "       [ 0.07740313-0.06249599j,  0.07740313+0.06249599j,\n",
      "         0.99024755+0.j        ]]))\n",
      "---------------\n"
     ]
    }
   ],
   "source": [
    "A = np.array([[-1, 10, 1], [-10, -1, 1], [1, 1, -2]])\n",
    "print(A)\n",
    "print(\"---------------\")\n",
    "print(np.linalg.eig(A))\n",
    "print(\"---------------\")"
   ]
  },
  {
   "cell_type": "markdown",
   "metadata": {},
   "source": [
    "###2."
   ]
  },
  {
   "cell_type": "code",
   "execution_count": 20,
   "metadata": {},
   "outputs": [
    {
     "name": "stdout",
     "output_type": "stream",
     "text": [
      "[[-0.11131306+6.93889390e-18j  0.09051832+6.93889390e-18j\n",
      "   1.01976223-8.67361738e-19j]\n",
      " [ 0.05565653+4.46577415e-02j -0.04525916+5.52600051e-02j\n",
      "  -0.00988111+2.05326734e-03j]\n",
      " [ 0.05565653-4.46577415e-02j -0.04525916-5.52600051e-02j\n",
      "  -0.00988111-2.05326734e-03j]]\n"
     ]
    }
   ],
   "source": [
    "T = np.array([[0.0889, 5.51-4.44j, 5.51+4.44j],[-0.109, -4.49-5.46j, -4.49+5.46j],[1, 1, 1]])\n",
    "T_inv = np.linalg.inv(T)\n",
    "print(T_inv)"
   ]
  },
  {
   "cell_type": "code",
   "execution_count": 21,
   "metadata": {},
   "outputs": [
    {
     "name": "stdout",
     "output_type": "stream",
     "text": [
      "[[-0.11131306+6.93889390e-18j  0.09051832+6.93889390e-18j\n",
      "   1.01976223-8.67361738e-19j]\n",
      " [ 0.05565653+4.46577415e-02j -0.04525916+5.52600051e-02j\n",
      "  -0.00988111+2.05326734e-03j]\n",
      " [ 0.05565653-4.46577415e-02j -0.04525916-5.52600051e-02j\n",
      "  -0.00988111-2.05326734e-03j]]\n",
      "---------------\n",
      "[[ 0.22589213-7.71951947e-17j -0.18388674+6.15826834e-17j\n",
      "  -2.0603192 +1.56125113e-17j]\n",
      " [ 0.38705394-5.95204525e-01j  0.59194337+3.93370677e-01j\n",
      "   0.0301596 +9.58112119e-02j]\n",
      " [ 0.38705394+5.95204525e-01j  0.59194337-3.93370677e-01j\n",
      "   0.0301596 -9.58112119e-02j]]\n",
      "---------------\n",
      "[[-2.02019374e+00+2.03734599e-18j  9.99787037e-03+1.06053217e-03j\n",
      "   9.99787037e-03-1.06053217e-03j]\n",
      " [ 4.68698888e-05+2.01258211e-05j -9.89903130e-01-9.90053033e+00j\n",
      "  -9.47402620e-05+5.30204719e-04j]\n",
      " [ 4.68698888e-05-2.01258211e-05j -9.47402620e-05-5.30204719e-04j\n",
      "  -9.89903130e-01+9.90053033e+00j]]\n"
     ]
    }
   ],
   "source": [
    "A = np.array([[-1, 10, 1], [-10, -1, 1], [1, 1, -2]])\n",
    "T = np.array([[0.0889, 5.51-4.44j, 5.51+4.44j],[-0.109, -4.49-5.46j, -4.49+5.46j],[1, 1, 1]])\n",
    "T_inv = np.linalg.inv(T)\n",
    "print(T_inv)\n",
    "print(\"---------------\")\n",
    "a1 = T_inv@A\n",
    "print(a1)\n",
    "print(\"---------------\")\n",
    "a2 = a1@T\n",
    "print(a2)"
   ]
  },
  {
   "cell_type": "markdown",
   "metadata": {},
   "source": [
    "###3."
   ]
  },
  {
   "cell_type": "code",
   "execution_count": 22,
   "metadata": {},
   "outputs": [
    {
     "name": "stdout",
     "output_type": "stream",
     "text": [
      "Matrix([[0.0889*exp(-2.02*t), (5.51 - 4.44*I)*exp(t*(-0.99 - 9.9*I)), (5.51 + 4.44*I)*exp(t*(-0.99 - 9.9*I))], [-0.109*exp(-2.02*t), (-4.49 - 5.46*I)*exp(t*(-0.99 - 9.9*I)), (-4.49 + 5.46*I)*exp(t*(-0.99 - 9.9*I))], [exp(-2.02*t), exp(t*(-0.99 - 9.9*I)), exp(t*(-0.99 - 9.9*I))]])\n",
      "---------------\n",
      "Matrix([[(0.0556565324072086 + 0.0446577414791174*I)*(5.51 - 4.44*I)*exp(t*(-0.99 - 9.9*I)) + (0.0556565324072086 - 0.0446577414791174*I)*(5.51 + 4.44*I)*exp(t*(-0.99 - 9.9*I)) - 0.0098957314620017*exp(-2.02*t), (-0.0452591582212466 - 0.0552600050975675*I)*(5.51 + 4.44*I)*exp(t*(-0.99 - 9.9*I)) + (-0.0452591582212466 + 0.0552600050975675*I)*(5.51 - 4.44*I)*exp(t*(-0.99 - 9.9*I)) + 0.0889*(0.0905183164424932 + 7.71380921905535e-18*I)*exp(-2.02*t), (-0.00988111397711673 - 0.00205326733814132*I)*(5.51 + 4.44*I)*exp(t*(-0.99 - 9.9*I)) + (-0.00988111397711672 + 0.00205326733814132*I)*(5.51 - 4.44*I)*exp(t*(-0.99 - 9.9*I)) + 0.0906568620651313*exp(-2.02*t)], [(-4.49 - 5.46*I)*(0.0556565324072086 + 0.0446577414791174*I)*exp(t*(-0.99 - 9.9*I)) + (-4.49 + 5.46*I)*(0.0556565324072086 - 0.0446577414791174*I)*exp(t*(-0.99 - 9.9*I)) + 0.0121331240647715*exp(-2.02*t), (-4.49 - 5.46*I)*(-0.0452591582212466 + 0.0552600050975675*I)*exp(t*(-0.99 - 9.9*I)) + (-4.49 + 5.46*I)*(-0.0452591582212466 - 0.0552600050975675*I)*exp(t*(-0.99 - 9.9*I)) - 0.109*(0.0905183164424932 + 7.71380921905535e-18*I)*exp(-2.02*t), (-4.49 + 5.46*I)*(-0.00988111397711673 - 0.00205326733814132*I)*exp(t*(-0.99 - 9.9*I)) + (-4.49 - 5.46*I)*(-0.00988111397711672 + 0.00205326733814132*I)*exp(t*(-0.99 - 9.9*I)) - 0.111154082847011*exp(-2.02*t)], [(0.0556565324072086 - 0.0446577414791174*I)*exp(t*(-0.99 - 9.9*I)) + (0.0556565324072086 + 0.0446577414791174*I)*exp(t*(-0.99 - 9.9*I)) - 0.111313064814417*exp(-2.02*t), (-0.0452591582212466 - 0.0552600050975675*I)*exp(t*(-0.99 - 9.9*I)) + (-0.0452591582212466 + 0.0552600050975675*I)*exp(t*(-0.99 - 9.9*I)) + (0.0905183164424932 + 7.71380921905535e-18*I)*exp(-2.02*t), (-0.00988111397711673 - 0.00205326733814132*I)*exp(t*(-0.99 - 9.9*I)) + (-0.00988111397711672 + 0.00205326733814132*I)*exp(t*(-0.99 - 9.9*I)) + 1.01976222795423*exp(-2.02*t)]])\n",
      "---------------\n",
      "Matrix([[1.009895731462*exp(-0.99*t - 9.9*I*t) - 0.0098957314620017*exp(-2.02*t), -0.00804707833173759*exp(-0.99*t - 9.9*I*t) + 0.00804707833173764*exp(-2.02*t) + 6.85757639574021e-19*I*exp(-2.02*t), 1.0*(-(0.0906568620651313 + 1.38777878078145e-17*I)*exp(2.02*t) + 0.0906568620651313*exp(t*(0.99 + 9.9*I)))*exp(-t*(3.01 + 9.9*I))], [-0.0121331240647715*exp(-0.99*t - 9.9*I*t) + 0.0121331240647715*exp(-2.02*t), 1.00986649649223*exp(-0.99*t - 9.9*I*t) - 0.00986649649223176*exp(-2.02*t) - 8.40805204877033e-19*I*exp(-2.02*t), 1.0*((0.111154082847011 - 2.77555756156289e-17*I)*exp(2.02*t) - 0.111154082847011*exp(t*(0.99 + 9.9*I)))*exp(-t*(3.01 + 9.9*I))], [0.111313064814417*exp(-0.99*t - 9.9*I*t) - 0.111313064814417*exp(-2.02*t), (-(0.0905183164424932 + 6.93889390390723e-18*I)*exp(2.02*t) + (0.0905183164424932 + 7.71380921905535e-18*I)*exp(t*(0.99 + 9.9*I)))*exp(-t*(3.01 + 9.9*I)), ((-0.0197622279542334 + 4.33680868994202e-19*I)*exp(2.02*t) + 1.01976222795423*exp(t*(0.99 + 9.9*I)))*exp(-t*(3.01 + 9.9*I))]])\n"
     ]
    }
   ],
   "source": [
    "import sympy as sym\n",
    "from sympy import I\n",
    "\n",
    "A = sym.Matrix([[-1, 10, 1], [-10, -1, 1], [1, 1, -2]])\n",
    "T = sym.Matrix([[0.0889, 5.51-4.44j, 5.51+4.44j],[-0.109, -4.49-5.46j, -4.49+5.46j],[1, 1, 1]])\n",
    "T_inv = T.inv()\n",
    "t = sym.symbols('t')\n",
    "e = sym.Matrix([[sym.exp(-2.02*t), 0, 0], [0, sym.exp((-0.990-9.900*I)*t), 0], [0, 0, sym.exp((-0.990-9.900*I)*t)]])\n",
    "e1 = T@e\n",
    "print(e1)\n",
    "print(\"---------------\")\n",
    "e21 = e1@T_inv\n",
    "e22 = sym.simplify(e21)\n",
    "print(e21)\n",
    "print(\"---------------\")\n",
    "print(e22)"
   ]
  },
  {
   "cell_type": "markdown",
   "metadata": {},
   "source": [
    "###4."
   ]
  },
  {
   "cell_type": "code",
   "execution_count": 23,
   "metadata": {},
   "outputs": [
    {
     "name": "stdout",
     "output_type": "stream",
     "text": [
      "Matrix([[0.911191791065133*exp(-0.99*t - 9.9*I*t) + 0.0888082089348673*exp(-2.02*t) + 6.85757639574021e-19*I*exp(-2.02*t)], [1.10888745527447*exp(-0.99*t - 9.9*I*t) - 0.108887455274472*exp(-2.02*t) - 8.40805204877033e-19*I*exp(-2.02*t)], [((0.00103252041769066 - 6.93889390390723e-18*I)*exp(2.02*t) + (0.998967479582309 + 7.71380921905535e-18*I)*exp(t*(0.99 + 9.9*I)))*exp(-t*(3.01 + 9.9*I))]])\n"
     ]
    }
   ],
   "source": [
    "funcx = sym.simplify(e21*sym.Matrix([[1], [1], [1]]))\n",
    "print(funcx)"
   ]
  },
  {
   "cell_type": "code",
   "execution_count": 24,
   "metadata": {},
   "outputs": [
    {
     "name": "stderr",
     "output_type": "stream",
     "text": [
      "C:\\Python3.9.7\\lib\\site-packages\\matplotlib\\cbook\\__init__.py:1333: ComplexWarning: Casting complex values to real discards the imaginary part\n",
      "  return np.asarray(x, float)\n",
      "C:\\Python3.9.7\\lib\\site-packages\\matplotlib\\cbook\\__init__.py:1333: ComplexWarning: Casting complex values to real discards the imaginary part\n",
      "  return np.asarray(x, float)\n",
      "C:\\Python3.9.7\\lib\\site-packages\\matplotlib\\cbook\\__init__.py:1333: ComplexWarning: Casting complex values to real discards the imaginary part\n",
      "  return np.asarray(x, float)\n"
     ]
    },
    {
     "data": {
      "image/png": "[encoded data removed]",
      "text/plain": [
       "<Figure size 432x288 with 1 Axes>"
      ]
     },
     "metadata": {
      "needs_background": "light"
     },
     "output_type": "display_data"
    }
   ],
   "source": [
    "import matplotlib.pyplot as plt\n",
    "import numpy as np\n",
    "from numpy import exp\n",
    "\n",
    "fig = plt.figure()\n",
    "ax = fig.add_subplot(1, 1, 1)\n",
    "\n",
    "# spine placement data centered\n",
    "ax.spines['left'].set_position(('data', 0.0))\n",
    "ax.spines['bottom'].set_position(('data', 0.0))\n",
    "ax.spines['right'].set_color('none')\n",
    "ax.spines['top'].set_color('none')\n",
    "\n",
    "t = np.linspace(0, 5, num =500)\n",
    "y1 = 0.911*np.exp((-0.99 - 9.9j)*t) + 0.089*np.exp(-2.02*t)\n",
    "y2 = 1.108*np.exp((-0.99 - 9.9j)*t) - 0.108887455274472*exp(-2.02*t)\n",
    "y3 = (0.00103*np.exp(2.02*t) + 0.998*np.exp((0.99 + 9.9j)*t))*np.exp((-3.01 - 9.9j)*t)\n",
    "plt.plot(x, y1, label = r'$ x_1 (t) = 0.911 e^{(-0.99 - 9.9j)t} + 0.089 e^{-2.02t}$')\n",
    "plt.plot(x, y2, label = r'$ x_2 (t) = 1.018 e^{(-0.99 - 9.9j)t} - 0.109 e^{-2.02t}$')\n",
    "plt.plot(t, y3, label = r'$ x_3 (t) = (0.00103 e^{2.02t} + 0.998 e^{(0.99 + 9.9j)t}) e^{(-3.01 - 9.9j)t)}$')\n",
    "plt.xlabel('t')\n",
    "plt.ylabel('x(t)')\n",
    "plt.legend(loc='best')\n",
    "plt.show()"
   ]
  },
  {
   "cell_type": "markdown",
   "metadata": {},
   "source": [
    "Dipisahkan fungsi $x_1 (t)$ dan $x_2 (t)$ agar dapat melihat osilasi yang terjadi pada kedua fungsi tersebut"
   ]
  },
  {
   "cell_type": "code",
   "execution_count": 25,
   "metadata": {},
   "outputs": [
    {
     "name": "stderr",
     "output_type": "stream",
     "text": [
      "C:\\Python3.9.7\\lib\\site-packages\\matplotlib\\cbook\\__init__.py:1333: ComplexWarning: Casting complex values to real discards the imaginary part\n",
      "  return np.asarray(x, float)\n",
      "C:\\Python3.9.7\\lib\\site-packages\\matplotlib\\cbook\\__init__.py:1333: ComplexWarning: Casting complex values to real discards the imaginary part\n",
      "  return np.asarray(x, float)\n"
     ]
    },
    {
     "data": {
      "image/png": "[encoded data removed]",
      "text/plain": [
       "<Figure size 432x288 with 1 Axes>"
      ]
     },
     "metadata": {
      "needs_background": "light"
     },
     "output_type": "display_data"
    }
   ],
   "source": [
    "fig = plt.figure()\n",
    "ax = fig.add_subplot(1, 1, 1)\n",
    "\n",
    "# spine placement data centered\n",
    "ax.spines['left'].set_position(('data', 0.0))\n",
    "ax.spines['bottom'].set_position(('data', 0.0))\n",
    "ax.spines['right'].set_color('none')\n",
    "ax.spines['top'].set_color('none')\n",
    "\n",
    "x = np.linspace(0, 5, num =500)\n",
    "y1 = 0.911*np.exp((-0.99 - 9.9j)*x) + 0.089*np.exp(-2.02*x)\n",
    "y2 = 1.108*np.exp((-0.99 - 9.9j)*x) - 0.109*exp(-2.02*x)\n",
    "plt.plot(x, y1,label = r'$ x_1 (t) = 0.911 e^{(-0.99 - 9.9j)t} + 0.089 e^{-2.02t}$')\n",
    "plt.plot(x, y2, label = r'$ x_2 (t) = 1.018 e^{(-0.99 - 9.9j)t} - 0.109 e^{-2.02t}$')\n",
    "plt.xlabel('t')\n",
    "plt.ylabel('x(t)')\n",
    "plt.legend(loc='best')\n",
    "plt.show()"
   ]
  },
  {
   "cell_type": "markdown",
   "metadata": {},
   "source": [
    "###5."
   ]
  },
  {
   "cell_type": "code",
   "execution_count": 26,
   "metadata": {},
   "outputs": [
    {
     "name": "stdout",
     "output_type": "stream",
     "text": [
      "Matrix([[0.911191791065133*exp(-0.99*t - 9.9*I*t) + 0.0888082089348673*exp(-2.02*t) + 6.85757639574021e-19*I*exp(-2.02*t)], [1.10888745527447*exp(-0.99*t - 9.9*I*t) - 0.108887455274472*exp(-2.02*t) - 8.40805204877033e-19*I*exp(-2.02*t)], [((0.00103252041769066 - 6.93889390390723e-18*I)*exp(2.02*t) + (0.998967479582309 + 7.71380921905535e-18*I)*exp(t*(0.99 + 9.9*I)))*exp(-t*(3.01 + 9.9*I))]])\n",
      "------------\n",
      "[[1.02*((0.00103252041769066 - 6.93889390390723e-18*I)*exp(2.02*t) + (0.998967479582309 + 7.71380921905535e-18*I)*exp(t*(0.99 + 9.9*I)))*exp(-t*(3.01 + 9.9*I)) - 0.000787974105890071*exp(-0.99*t - 9.9*I*t) - 0.01971202589411*exp(-2.02*t) - 1.52211969034088e-19*I*exp(-2.02*t)]]\n",
      "------------\n",
      "[[-0.00988*((0.00103252041769066 - 6.93889390390723e-18*I)*exp(2.02*t) + (0.998967479582309 + 7.71380921905535e-18*I)*exp(t*(0.99 + 9.9*I)))*exp(-t*(3.01 + 9.9*I)) + 0.45639003410828*exp(-0.99*t - 9.9*I*t) + 0.0543099658917198*exp(-2.02*t) + 4.19369723384085e-19*I*exp(-2.02*t)]]\n"
     ]
    }
   ],
   "source": [
    "w1T = sym.Matrix([[-0.111, 0.0905, 1.02]])\n",
    "w2T = sym.Matrix([[0.556, -0.0453, -0.00988]])\n",
    "funcx = sym.simplify(e21*sym.Matrix([[1], [1], [1]]))\n",
    "print(funcx)\n",
    "y1T = np.dot(w1T,funcx)\n",
    "y2T = np.dot(w2T,funcx)\n",
    "print(\"------------\")\n",
    "print(y1T)\n",
    "print(\"------------\")\n",
    "print(y2T)"
   ]
  },
  {
   "cell_type": "code",
   "execution_count": 27,
   "metadata": {},
   "outputs": [
    {
     "name": "stderr",
     "output_type": "stream",
     "text": [
      "C:\\Python3.9.7\\lib\\site-packages\\matplotlib\\cbook\\__init__.py:1333: ComplexWarning: Casting complex values to real discards the imaginary part\n",
      "  return np.asarray(x, float)\n",
      "C:\\Python3.9.7\\lib\\site-packages\\matplotlib\\cbook\\__init__.py:1333: ComplexWarning: Casting complex values to real discards the imaginary part\n",
      "  return np.asarray(x, float)\n"
     ]
    },
    {
     "data": {
      "image/png": "[encoded data removed]",
      "text/plain": [
       "<Figure size 432x288 with 1 Axes>"
      ]
     },
     "metadata": {
      "needs_background": "light"
     },
     "output_type": "display_data"
    }
   ],
   "source": [
    "fig = plt.figure()\n",
    "ax = fig.add_subplot(1, 1, 1)\n",
    "\n",
    "# spine placement data centered\n",
    "ax.spines['left'].set_position(('data', 0.0))\n",
    "ax.spines['bottom'].set_position(('data', 0.0))\n",
    "ax.spines['right'].set_color('none')\n",
    "ax.spines['top'].set_color('none')\n",
    "\n",
    "t = np.linspace(0, 5, num =500)\n",
    "y1 = 1.02*(0.0010*exp(2.02*t) + 0.999*exp(t*(0.99 + 9.9j)))*exp(-t*(3.01 + 9.9j)) - 0.000788*exp(-0.99*t - 9.9j*t) - 0.0197*exp(-2.02*t)\n",
    "y2 = -0.00988*((0.0010)*exp(2.02*t) + (0.999)*exp(t*(0.99 + 9.9j)))*exp(-t*(3.01 + 9.9j)) + 0.456*exp(-0.99*t - 9.9j*t) + 0.0543*exp(-2.02*t)\n",
    "plt.plot(x, y1,label = r'$y_1 (t) = 1.02((0.0010) e^{2.02t} + (0.999) e^{(0.99 + 9.9j)t}) e^{-t(3.01 + 9.9j)} - 0.000788 e^{(-0.99 - 9.9j)t} - 0.0197 e^{-2.02t}$')\n",
    "plt.plot(x, y2, label = r'$ y_2 (t) = -0.00988((0.0010) e^{2.02t} + (0.999) e^{t(0.99 + 9.9j)}) e^{(-t(3.01 + 9.9j)} + 0.456 e^{(-0.99 - 9.9j)t} + 0.0543 e^{-2.02t}$')\n",
    "plt.xlabel('t')\n",
    "plt.ylabel('x(t)')\n",
    "plt.legend(loc='best')\n",
    "plt.show()"
   ]
  },
  {
   "cell_type": "markdown",
   "metadata": {},
   "source": [
    "###6. "
   ]
  },
  {
   "cell_type": "code",
   "execution_count": 28,
   "metadata": {},
   "outputs": [
    {
     "name": "stdout",
     "output_type": "stream",
     "text": [
      "------------\n",
      "Matrix([[1.0*(1.38777878078145e-17*(1 - I)*exp(4.04*t) + (0.0889 - 7.47475827135682e-20*I)*exp(t*(3.01 + 9.9*I)))*exp(-t*(5.03 + 9.9*I))], [1.0*((4.16333634234434e-17 - 2.77555756156289e-17*I)*exp(4.04*t) + (-0.109 + 9.16477673315966e-20*I)*exp(t*(3.01 + 9.9*I)))*exp(-t*(5.03 + 9.9*I))], [1.0*((3.46944695195361e-18 + 1.19002030452009e-18*I)*exp(4.04*t) + (1.0 - 8.40805204877033e-19*I)*exp(t*(3.01 + 9.9*I)))*exp(-t*(5.03 + 9.9*I))]])\n",
      "------------\n"
     ]
    },
    {
     "name": "stderr",
     "output_type": "stream",
     "text": [
      "C:\\Python3.9.7\\lib\\site-packages\\matplotlib\\cbook\\__init__.py:1333: ComplexWarning: Casting complex values to real discards the imaginary part\n",
      "  return np.asarray(x, float)\n",
      "C:\\Python3.9.7\\lib\\site-packages\\matplotlib\\cbook\\__init__.py:1333: ComplexWarning: Casting complex values to real discards the imaginary part\n",
      "  return np.asarray(x, float)\n",
      "C:\\Python3.9.7\\lib\\site-packages\\matplotlib\\cbook\\__init__.py:1333: ComplexWarning: Casting complex values to real discards the imaginary part\n",
      "  return np.asarray(x, float)\n"
     ]
    },
    {
     "data": {
      "image/png": "[encoded data removed]",
      "text/plain": [
       "<Figure size 432x288 with 1 Axes>"
      ]
     },
     "metadata": {
      "needs_background": "light"
     },
     "output_type": "display_data"
    }
   ],
   "source": [
    "v1 = sym.Matrix([[0.0889], [-0.109], [1]])\n",
    "v2 = sym.Matrix([[5.51], [-4.49], [-0.00988]])\n",
    "fx1 = sym.simplify(e22@v1)\n",
    "print(\"------------\")\n",
    "print(fx1)\n",
    "print(\"------------\")\n",
    "\n",
    "fig = plt.figure()\n",
    "ax = fig.add_subplot(1, 1, 1)\n",
    "\n",
    "# spine placement data centered\n",
    "ax.spines['left'].set_position(('data', 0.0))\n",
    "ax.spines['bottom'].set_position(('data', 0.0))\n",
    "ax.spines['right'].set_color('none')\n",
    "ax.spines['top'].set_color('none')\n",
    "\n",
    "t = np.linspace(0, 5, num=500)\n",
    "y1 = (0.0889*exp(t*(3.01 + 9.9j)))*exp(-t*(5.03 + 9.9j))\n",
    "y2 = (-0.109*exp(t*(3.01 + 9.9j)))*exp(-t*(5.03 + 9.9j))\n",
    "y3 = (exp(t*(3.01 + 9.9j)))*exp(-t*(5.03 + 9.9j))\n",
    "plt.plot(x, y1,label = r'$y_1 (t) =0.0889 e^{(3.01 + 9.9j)t} e^{-(5.03 + 9.9j)t}$')\n",
    "plt.plot(x, y2, label = r'$ y_2 (t) = -0.109 e^{(3.01 + 9.9j)t)} e^{-(5.03 + 9.9j)t}$')\n",
    "plt.plot(x, y3, label = r'$ y_3 (t) = e^{(3.01 + 9.9j)t)} e^{-(5.03 + 9.9j)t}$')\n",
    "plt.xlabel('t')\n",
    "plt.ylabel('x(t)')\n",
    "plt.legend(loc='best')\n",
    "plt.show()"
   ]
  },
  {
   "cell_type": "markdown",
   "metadata": {},
   "source": [
    "###7. "
   ]
  },
  {
   "cell_type": "code",
   "execution_count": 29,
   "metadata": {},
   "outputs": [
    {
     "name": "stdout",
     "output_type": "stream",
     "text": [
      "------------\n",
      "Matrix([[1.0*((5.51 - 1.38777878078145e-17*I)*exp(4.04*t) - (2.77555756156289e-17 + 3.07905180168735e-18*I)*exp(t*(3.01 + 9.9*I)))*exp(-t*(5.03 + 9.9*I))], [1.0*(-(4.49 + 2.77555756156289e-17*I)*exp(4.04*t) + (1.38777878078145e-17 + 3.77521536989788e-18*I)*exp(t*(3.01 + 9.9*I)))*exp(-t*(5.03 + 9.9*I))], [1.0*((1.0 + 3.15893144975377e-17*I)*exp(4.04*t) - (2.22044604925031e-16 + 3.46350033935585e-17*I)*exp(t*(3.01 + 9.9*I)))*exp(-t*(5.03 + 9.9*I))]])\n",
      "------------\n"
     ]
    },
    {
     "name": "stderr",
     "output_type": "stream",
     "text": [
      "C:\\Python3.9.7\\lib\\site-packages\\matplotlib\\cbook\\__init__.py:1333: ComplexWarning: Casting complex values to real discards the imaginary part\n",
      "  return np.asarray(x, float)\n",
      "C:\\Python3.9.7\\lib\\site-packages\\matplotlib\\cbook\\__init__.py:1333: ComplexWarning: Casting complex values to real discards the imaginary part\n",
      "  return np.asarray(x, float)\n",
      "C:\\Python3.9.7\\lib\\site-packages\\matplotlib\\cbook\\__init__.py:1333: ComplexWarning: Casting complex values to real discards the imaginary part\n",
      "  return np.asarray(x, float)\n"
     ]
    },
    {
     "data": {
      "image/png": "[encoded data removed]",
      "text/plain": [
       "<Figure size 432x288 with 1 Axes>"
      ]
     },
     "metadata": {
      "needs_background": "light"
     },
     "output_type": "display_data"
    }
   ],
   "source": [
    "v2 = sym.Matrix([[5.51], [-4.49], [1]])\n",
    "fx2 = sym.simplify(e22@v2)\n",
    "print(\"------------\")\n",
    "print(fx2)\n",
    "print(\"------------\")\n",
    "\n",
    "fig = plt.figure()\n",
    "ax = fig.add_subplot(1, 1, 1)\n",
    "\n",
    "# spine placement data centered\n",
    "ax.spines['left'].set_position(('data', 0.0))\n",
    "ax.spines['bottom'].set_position(('data', 0.0))\n",
    "ax.spines['right'].set_color('none')\n",
    "ax.spines['top'].set_color('none')\n",
    "\n",
    "\n",
    "t = np.linspace(0, 5, num =500)\n",
    "y1 = (5.62*exp(4.04*t) - (0.092)*exp(t*(3.01 + 9.9j)))*exp(-t*(5.03 + 9.9j))\n",
    "y2 = (-4.60*exp(4.04*t) + (0.112)*exp(t*(3.01 + 9.9j)))*exp(-t*(5.03 + 9.9j))\n",
    "y3 = (1.02*exp(4.04*t) - (1.03)*exp(t*(3.01 + 9.9j)))*exp(-t*(5.03 + 9.9j))\n",
    "plt.plot(x, y1, label = r'$y_1 (t) = (5.62 e^{4.04t} - 0.092 e^{(3.01 + 9.9j)t)}) e^{-t(5.03 + 9.9j)}$')\n",
    "plt.plot(x, y2, label = r'$ y_2 (t) = (-4.60 e^{4.04t} + 0.112 e^{(3.01 + 9.9j)t)}) e^{-t(5.03 + 9.9j)}$')\n",
    "plt.plot(x, y3, label = r'$ y_3 (t) = (1.02 e^{4.04t} - 1.03 e^{(3.01 + 9.9j)t)}) e^{-t(5.03 + 9.9j)}$')\n",
    "plt.xlabel('t')\n",
    "plt.ylabel('x(t)')\n",
    "plt.legend(loc='best')\n",
    "plt.show()"
   ]
  }
 ],
 "metadata": {
  "interpreter": {
   "hash": "bdd23468d7f7657cab13188695d1846153e75afe38271f1101fbd34b80f24fad"
  },
  "kernelspec": {
   "display_name": "Python 3.9.7 64-bit",
   "name": "python3"
  },
  "language_info": {
   "codemirror_mode": {
    "name": "ipython",
    "version": 3
   },
   "file_extension": ".py",
   "mimetype": "text/x-python",
   "name": "python",
   "nbconvert_exporter": "python",
   "pygments_lexer": "ipython3",
   "version": "3.9.7"
  },
  "orig_nbformat": 4
 },
 "nbformat": 4,
 "nbformat_minor": 2
}
